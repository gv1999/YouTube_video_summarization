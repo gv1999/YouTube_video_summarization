{
  "nbformat": 4,
  "nbformat_minor": 0,
  "metadata": {
    "colab": {
      "provenance": []
    },
    "kernelspec": {
      "name": "python3",
      "display_name": "Python 3"
    },
    "language_info": {
      "name": "python"
    }
  },
  "cells": [
    {
      "cell_type": "code",
      "execution_count": null,
      "metadata": {
        "id": "2LzeqjzsXXNj"
      },
      "outputs": [],
      "source": [
        "# Required Libraries\n",
        "!pip install yt-dlp torch torchvision torchaudio transformers\n",
        "# Install required libraries\n",
        "!pip install yt-dlp\n",
        "!pip install git+https://github.com/openai/whisper.git\n",
        "!pip install torch transformers\n",
        "!apt-get install ffmpeg"
      ]
    },
    {
      "cell_type": "code",
      "source": [
        "import yt_dlp\n",
        "import whisper\n",
        "from transformers import pipeline, T5Tokenizer, T5ForConditionalGeneration\n",
        "\n",
        "# Function to download audio from YouTube using yt-dlp\n",
        "def download_audio(youtube_url):\n",
        "    ydl_opts = {\n",
        "        'format': 'bestaudio/best',\n",
        "        'postprocessors': [{\n",
        "            'key': 'FFmpegExtractAudio',\n",
        "            'preferredcodec': 'mp3',\n",
        "            'preferredquality': '192',\n",
        "        }],\n",
        "        'outtmpl': 'audio.%(ext)s',\n",
        "    }\n",
        "\n",
        "    try:\n",
        "        with yt_dlp.YoutubeDL(ydl_opts) as ydl:\n",
        "            ydl.download([youtube_url])\n",
        "        return 'audio.mp3'  # The output file\n",
        "    except Exception as e:\n",
        "        print(f\"Error downloading audio: {e}\")\n",
        "        return None\n",
        "\n",
        "# Function to transcribe audio using Whisper\n",
        "def transcribe_audio(audio_file):\n",
        "    model = whisper.load_model(\"base\")  # Choose appropriate model size\n",
        "    result = model.transcribe(audio_file)\n",
        "    return result['text']\n",
        "\n",
        "# Function to split text into chunks for summarization\n",
        "def split_text(text, chunk_size=512):\n",
        "    sentences = text.split('. ')\n",
        "    chunks = []\n",
        "    current_chunk = []\n",
        "\n",
        "    for sentence in sentences:\n",
        "        current_chunk.append(sentence)\n",
        "        if len(' '.join(current_chunk)) > chunk_size:\n",
        "            chunks.append(' '.join(current_chunk))\n",
        "            current_chunk = []\n",
        "\n",
        "    if current_chunk:\n",
        "        chunks.append(' '.join(current_chunk))\n",
        "\n",
        "    return chunks\n",
        "\n",
        "# Function to summarize text using T5-base\n",
        "def summarize_text_with_t5(text):\n",
        "    # Load T5 model and tokenizer\n",
        "    model = T5ForConditionalGeneration.from_pretrained(\"t5-base\")\n",
        "    tokenizer = T5Tokenizer.from_pretrained(\"t5-base\")\n",
        "\n",
        "    chunks = split_text(text)\n",
        "    summaries = []\n",
        "\n",
        "    for chunk in chunks:\n",
        "        input_ids = tokenizer.encode(\"summarize: \" + chunk, return_tensors=\"pt\", max_length=512, truncation=True)\n",
        "        summary_ids = model.generate(input_ids, max_length=150, min_length=40, length_penalty=2.0, num_beams=4, early_stopping=True)\n",
        "        summary = tokenizer.decode(summary_ids[0], skip_special_tokens=True)\n",
        "        summaries.append(summary)\n",
        "\n",
        "    return ' '.join(summaries)\n",
        "\n",
        "# Main function to summarize a YouTube video\n",
        "def summarize_youtube_video(youtube_url):\n",
        "    audio_file = download_audio(youtube_url)\n",
        "    if audio_file is None:\n",
        "        return \"Failed to download audio.\"\n",
        "\n",
        "    transcript = transcribe_audio(audio_file)\n",
        "    summary = summarize_text_with_t5(transcript)\n",
        "    return summary\n",
        "\n",
        "# Example usage\n",
        "youtube_url = 'https://youtu.be/fRJQ-I0hArU?si=KUd_U_bt76qw_10q'  # Replace with your YouTube video ID\n",
        "summary = summarize_youtube_video(youtube_url)\n",
        "\n",
        "print(\"Summary:\", summary)"
      ],
      "metadata": {
        "id": "Y-Nc1h2yXaDc"
      },
      "execution_count": null,
      "outputs": []
    }
  ]
}